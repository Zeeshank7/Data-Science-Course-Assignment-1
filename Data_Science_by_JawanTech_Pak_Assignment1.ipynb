{
 "cells": [
  {
   "cell_type": "code",
   "execution_count": 2,
   "id": "f47918b5",
   "metadata": {},
   "outputs": [
    {
     "name": "stdout",
     "output_type": "stream",
     "text": [
      "Twinkle, twinkle, little star,\n",
      "    How I wonder What you are!\n",
      "        Up above the world so high,\n",
      "        Like a diamond in the sky.\n",
      "Twinkle, twinke, little star,\n",
      "    How I wonder What you are\n",
      "\n"
     ]
    }
   ],
   "source": [
    "#Q1\n",
    "print('''Twinkle, twinkle, little star,\n",
    "    How I wonder What you are!\n",
    "        Up above the world so high,\n",
    "        Like a diamond in the sky.\n",
    "Twinkle, twinke, little star,\n",
    "    How I wonder What you are\n",
    "''')"
   ]
  },
  {
   "cell_type": "code",
   "execution_count": 5,
   "id": "5c83cea9",
   "metadata": {},
   "outputs": [
    {
     "name": "stdout",
     "output_type": "stream",
     "text": [
      "Python version: 3.8.8 (default, Apr 13 2021, 15:08:03) [MSC v.1916 64 bit (AMD64)]\n"
     ]
    }
   ],
   "source": [
    "#Q2\n",
    "import sys\n",
    "print(\"Python version:\",sys.version)"
   ]
  },
  {
   "cell_type": "code",
   "execution_count": 6,
   "id": "51b3bba2",
   "metadata": {},
   "outputs": [
    {
     "name": "stdout",
     "output_type": "stream",
     "text": [
      "Current Date and Time:  2022-01-14 18:28:47.033871\n"
     ]
    }
   ],
   "source": [
    "#Q3\n",
    "import datetime\n",
    "print(\"Current Date and Time: \",datetime.datetime.now())"
   ]
  },
  {
   "cell_type": "code",
   "execution_count": 8,
   "id": "80daa763",
   "metadata": {},
   "outputs": [
    {
     "name": "stdout",
     "output_type": "stream",
     "text": [
      "Enter radius of circle: 59\n",
      "Area of Circle of given radius is:  10954.707\n"
     ]
    }
   ],
   "source": [
    "#Q4\n",
    "PI=3.147\n",
    "radius=int(input(\"Enter radius of circle: \"))\n",
    "area_of_circle=PI*radius*radius\n",
    "print(\"Area of Circle of given radius is: \",area_of_circle)"
   ]
  },
  {
   "cell_type": "code",
   "execution_count": 10,
   "id": "57f426f8",
   "metadata": {},
   "outputs": [
    {
     "name": "stdout",
     "output_type": "stream",
     "text": [
      "Enter First Name: Zeeshan\n",
      "Enter Last Name: Ali\n",
      "Ali Zeeshan\n"
     ]
    }
   ],
   "source": [
    "#Q5\n",
    "f_name=input('Enter First Name: ')\n",
    "l_name=input('Enter Last Name: ')\n",
    "full_name=l_name+\" \"+f_name\n",
    "print(full_name)"
   ]
  },
  {
   "cell_type": "code",
   "execution_count": 11,
   "id": "6f2ef300",
   "metadata": {},
   "outputs": [
    {
     "name": "stdout",
     "output_type": "stream",
     "text": [
      "Enter 1st Number: 59\n",
      "Enter 2nd Number: 20\n",
      "The addition of 59 and 20 is: 79\n"
     ]
    }
   ],
   "source": [
    "#Q6\n",
    "num1=int(input(\"Enter 1st Number: \"))\n",
    "num2=int(input(\"Enter 2nd Number: \"))\n",
    "print(f\"The addition of {num1} and {num2} is: {num1+num2}\")"
   ]
  },
  {
   "cell_type": "code",
   "execution_count": null,
   "id": "a36cc711",
   "metadata": {},
   "outputs": [],
   "source": []
  }
 ],
 "metadata": {
  "kernelspec": {
   "display_name": "Python 3",
   "language": "python",
   "name": "python3"
  },
  "language_info": {
   "codemirror_mode": {
    "name": "ipython",
    "version": 3
   },
   "file_extension": ".py",
   "mimetype": "text/x-python",
   "name": "python",
   "nbconvert_exporter": "python",
   "pygments_lexer": "ipython3",
   "version": "3.8.8"
  }
 },
 "nbformat": 4,
 "nbformat_minor": 5
}
